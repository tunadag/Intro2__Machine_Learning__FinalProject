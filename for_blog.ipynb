{
 "cells": [
  {
   "cell_type": "markdown",
   "metadata": {},
   "source": [
    "# Makine Öğrenimi Uygulaması: ENRON Suçlu Bulucu"
   ]
  },
  {
   "cell_type": "markdown",
   "metadata": {},
   "source": [
    "Bu çalışmanın amacı makine öğrenimi sürecinde konseptlerin anlaşılması amacıyla gerçek dünyadan gerçek verilerin kullanıldığı bir uygulama örneği sunmaktır. Uygulama aynı zamanda Udacity - \"Intro to Machine Learning\" dersinin final projesidir. Projenin amacı basit bir ifadeyle, üst düzey yöneticilerin eposta ve mali durum bilgilerini içeren Enron veri setinin makineye öğretilerek bir kişinin suçlu olup olmadığının tahminini yapan bir modellemenin geliştirilmesidir. Python 2 programlama dilinde yazılan projede; veri analizi, işleme ve görselleştirmede Numpy, Pandas, matplotlib, seaborn kütüphaneleri, makine öğrenimi için scikit-learn kütüphanesi kullanılmıştır. Çalışmanın anlaşılabilmesi betimsel ve kestirimsel istatistik ile yeterli seviye Python programlama dili bilgisi gerektirmektedir. Öncelikle belirtilen internet adresinden indirdiğimiz, veri setini ve proje boyunca kullanacağımız yardımcı kod dosyalarını barındıran dosyayı Python'a tanıtıyoruz. Proje süresince yararlanacağımız ilgili Python kütüphanelerini \"import\" ettikten sonra veri setini içeren \"final_project_dataset.pkl\" adlı veri dosyasını üzerinde çalışmaya başlamak için okutuyoruz. "
   ]
  },
  {
   "cell_type": "code",
   "execution_count": 1,
   "metadata": {
    "collapsed": true
   },
   "outputs": [],
   "source": [
    "import os\n",
    "os.chdir('/home/tuna/PycharmProjects/IntroMachineLearning/ud120-projects/final_project/')\n",
    "import sys\n",
    "sys.path.append(\"../tools/\")"
   ]
  },
  {
   "cell_type": "code",
   "execution_count": 2,
   "metadata": {
    "collapsed": false
   },
   "outputs": [
    {
     "name": "stderr",
     "output_type": "stream",
     "text": [
      "/home/tuna/anaconda3/envs/py27/lib/python2.7/site-packages/sklearn/cross_validation.py:44: DeprecationWarning: This module was deprecated in version 0.18 in favor of the model_selection module into which all the refactored classes and functions are moved. Also note that the interface of the new CV iterators are different from that of this module. This module will be removed in 0.20.\n",
      "  \"This module will be removed in 0.20.\", DeprecationWarning)\n"
     ]
    }
   ],
   "source": [
    "import numpy as np\n",
    "import pandas as pd\n",
    "import matplotlib.pyplot as plt\n",
    "import seaborn as sns\n",
    "import pickle\n",
    "from feature_format import featureFormat\n",
    "from feature_format import targetFeatureSplit\n",
    "from sklearn import cross_validation\n",
    "from sklearn.model_selection import train_test_split\n",
    "from sklearn.metrics import accuracy_score, precision_score, recall_score, f1_score\n",
    "from sklearn import preprocessing\n",
    "from tester import test_classifier\n",
    "from sklearn.pipeline import Pipeline\n",
    "from sklearn.model_selection import GridSearchCV"
   ]
  },
  {
   "cell_type": "code",
   "execution_count": 3,
   "metadata": {
    "collapsed": false
   },
   "outputs": [],
   "source": [
    "with open(\"final_project_dataset.pkl\", \"r\") as data_file:\n",
    "    data_dict = pickle.load(data_file)\n",
    "ayirac = '-----------------------------------------------------------------------------------------------------------'"
   ]
  },
  {
   "cell_type": "markdown",
   "metadata": {},
   "source": [
    "## Veri setini anlama"
   ]
  },
  {
   "cell_type": "markdown",
   "metadata": {},
   "source": [
    "Her analizin başlangıcında olduğu gibi veri setine dair temel bilgileri edinerek başlıyoruz, buna göre veri setinde \"dictionary\" formatında 146 veri noktası bulunmaktadır. Bu veri noktalarının her biri Enron'un üst düzey yetkililerini temsil etmektedir. İlk veri noktasının anahtar(key) ve değerlerine(values) baktığımızda anahtarın kişinin soyadı ve adı, değerlerin bu kişiye ait toplamda 21 özellikten(features) oluşan eposta ve mali bilgileri olduğu görülmektedir. İlerleyen aşamalarda analize tabi tutulacak yeni özellik çıkarımları yapabilmek için en başında bu özelliklerin neler olduğunu incelemenin ve yorumlamanın faydası olacaktır. İlgili özelliklere baktığımızda bir önceki blog gönderimde de bahsettiğim üzere özellikler eposta, mali durum bilgileri ve kişinin suçlu olup olmadığını gösteren üç ana başlık altında toplanmaktadır.(Bu noktadan itibaren suçlu kişiler veri setinde olduğu gibi \"POI\" olarak geçecektir.)  Eposta özelliklerini incelersek;\n",
    "'to_messages'            : İlgili kişiye gelen e-posta sayısı\n",
    "'from_messages'          : İlgili kişinin gönderdiği e-posta sayısı \n",
    "'from_this_person_to_poi': İlgili kişiden POI'ye gönderilen eposta sayısı\n",
    "'from_poi_to_this_person': POI'den ilgili kişiye gönderilen eposta sayısı\n",
    "'shared_receipt_with_poi': İlgili kişinin POI ile birlikte gönderim listesinde yer aldığı eposta sayısı\n",
    "'email_address'          : İlgili kişinin eposta adresini ifade etmektedir.\n",
    "Tamamı Amerikan doları cinsinden mali durum bilgilierini gösteren özellikler incelendiğinde ilgili kişinin maaş, bonus, vadeli ödeme gibi ödemelerle('salary','deferral_payments','total_payments', 'bonus', 'expenses', 'loan_advances', 'director_fees', 'deferred_income', 'long_term_incentives') birlikte şirket hisse senetleriyle('exercised_stock_options', 'restricted_stock', 'restricted_stock_deferred', 'total_stock_value') ilgili özellikler bulunmaktadır. Veri dosyasının içinde yer alan pdf formatındaki mali tablo incelendiğinde görülecektir ki \n",
    "'total_payments'; 'salary','deferral_payments','total_payments', 'bonus', 'expenses', 'loan_advances', 'director_fees',  'long_term_incentives' değerlerinin toplamından 'deferred_income' değerinin çıkarılmasıyla elde edilmiştir. Aynı şekilde, 'total_stock_value'; 'exercised_stock_options', 'restricted_stock', 'restricted_stock_deferred' değerlerinin toplamına eşittir. Bunu fark etmemiz, birbiriyle yüksek korelasyona sahip özellikleri belirleyerek analiz esnasında uygulayacağımız yönteme veya algoritmaya göre onları dışarıda tutmak veya dahil etme seçeneğini elde tutmaktır.  "
   ]
  },
  {
   "cell_type": "code",
   "execution_count": 4,
   "metadata": {
    "collapsed": false
   },
   "outputs": [
    {
     "name": "stdout",
     "output_type": "stream",
     "text": [
      "<type 'dict'>\n",
      "Enron veri setindeki veri noktalarının: 146\n"
     ]
    }
   ],
   "source": [
    "print type(data_dict)\n",
    "print \"Enron veri setindeki veri noktalarının:\", len(data_dict)"
   ]
  },
  {
   "cell_type": "code",
   "execution_count": 5,
   "metadata": {
    "collapsed": false
   },
   "outputs": [
    {
     "name": "stdout",
     "output_type": "stream",
     "text": [
      "Her bir kişi için özellik sayısı: 21\n"
     ]
    }
   ],
   "source": [
    "print \"Her bir kişi için özellik sayısı:\", len(data_dict[data_dict.keys()[0]])"
   ]
  },
  {
   "cell_type": "code",
   "execution_count": 6,
   "metadata": {
    "collapsed": false
   },
   "outputs": [
    {
     "name": "stdout",
     "output_type": "stream",
     "text": [
      "METTS MARK\n"
     ]
    }
   ],
   "source": [
    "print data_dict.keys()[0]"
   ]
  },
  {
   "cell_type": "code",
   "execution_count": 7,
   "metadata": {
    "collapsed": false
   },
   "outputs": [
    {
     "name": "stdout",
     "output_type": "stream",
     "text": [
      "{'salary': 365788, 'to_messages': 807, 'deferral_payments': 'NaN', 'total_payments': 1061827, 'exercised_stock_options': 'NaN', 'bonus': 600000, 'restricted_stock': 585062, 'shared_receipt_with_poi': 702, 'restricted_stock_deferred': 'NaN', 'total_stock_value': 585062, 'expenses': 94299, 'loan_advances': 'NaN', 'from_messages': 29, 'other': 1740, 'from_this_person_to_poi': 1, 'poi': False, 'director_fees': 'NaN', 'deferred_income': 'NaN', 'long_term_incentive': 'NaN', 'email_address': 'mark.metts@enron.com', 'from_poi_to_this_person': 38}\n"
     ]
    }
   ],
   "source": [
    "print data_dict.values()[0]"
   ]
  },
  {
   "cell_type": "markdown",
   "metadata": {},
   "source": [
    "Veri setinde yer alan 146 Enron üst düzey yöneticisinden kaçının \"POI\"(Person of Interest) olduğunu belirliyoruz. Buna göre 146 kişiden 18'i POI'dir. \"POI\" ne demek tekrar hatırlamak gerekirse; haklarında dava açılmış, hukuki uzlaşıya varılmış, devlet ile itiraf anlaşması yapmış veya savcı dokunulmazlığı karşılığında tanıklık etmiş, kısaca skandala yol açan dolandırıcılığa karışmış kişilerdir. Elbette gerçekte Enron skandalına karışan POI sayısı daha fazla, buradaki 18 değeri proje amaçlı oluşturulmuş veri setinde yer alan POI'leri yansıtmaktadır.  "
   ]
  },
  {
   "cell_type": "code",
   "execution_count": 8,
   "metadata": {
    "collapsed": false
   },
   "outputs": [
    {
     "name": "stdout",
     "output_type": "stream",
     "text": [
      "POI sayısı: 18\n",
      "POI olmayanların sayısı: 128\n"
     ]
    }
   ],
   "source": [
    "count_poi = 0\n",
    "count_nonpoi = 0\n",
    "for person in data_dict:\n",
    "    if data_dict[person]['poi']:\n",
    "        count_poi += 1\n",
    "    else:\n",
    "        count_nonpoi += 1\n",
    "print \"POI sayısı:\", count_poi\n",
    "print \"POI olmayanların sayısı:\", count_nonpoi"
   ]
  },
  {
   "cell_type": "markdown",
   "metadata": {},
   "source": [
    "Veri setini araştırmada dikkat çeken bir husus da 'NaN' değerleri. Halihazırda gelen verisetindeki bu değerler ilk bakışta eksik/olmayan değerleri ifade etse de Numpy formatında 'NaN' olmadığı için makine bunları da bir değer olarak algılayıp tüm veri setinde hiçbir eksik veri yokmuş gibi görmektedir. Bu durumu düzeltmek için NaN değerlerini Numpy formatında 'NaN'a dönüştürerek her bir özellik için var olan değerlerin sayısını görüntülüyoruz. Çok az veriye sahip özelliklerin belirlenmesi, oluşturacağımız modele olumsuz etki gösterme ihtimali nedeniyle duruma göre analiz dışı tutmamız açısından önemli. "
   ]
  },
  {
   "cell_type": "code",
   "execution_count": 9,
   "metadata": {
    "collapsed": false
   },
   "outputs": [
    {
     "name": "stdout",
     "output_type": "stream",
     "text": [
      "<class 'pandas.core.frame.DataFrame'>\n",
      "Index: 146 entries, ALLEN PHILLIP K to YEAP SOON\n",
      "Data columns (total 21 columns):\n",
      "salary                       95 non-null float64\n",
      "to_messages                  86 non-null float64\n",
      "deferral_payments            39 non-null float64\n",
      "total_payments               125 non-null float64\n",
      "exercised_stock_options      102 non-null float64\n",
      "bonus                        82 non-null float64\n",
      "restricted_stock             110 non-null float64\n",
      "shared_receipt_with_poi      86 non-null float64\n",
      "restricted_stock_deferred    18 non-null float64\n",
      "total_stock_value            126 non-null float64\n",
      "expenses                     95 non-null float64\n",
      "loan_advances                4 non-null float64\n",
      "from_messages                86 non-null float64\n",
      "other                        93 non-null float64\n",
      "from_this_person_to_poi      86 non-null float64\n",
      "poi                          146 non-null bool\n",
      "director_fees                17 non-null float64\n",
      "deferred_income              49 non-null float64\n",
      "long_term_incentive          66 non-null float64\n",
      "email_address                111 non-null object\n",
      "from_poi_to_this_person      86 non-null float64\n",
      "dtypes: bool(1), float64(19), object(1)\n",
      "memory usage: 23.0+ KB\n"
     ]
    }
   ],
   "source": [
    "# Pandas .info() ile veri setine ait genel bilgiler\n",
    "enron_data = pd.DataFrame.from_dict(data_dict, orient = 'index')\n",
    "enron_data.replace('NaN', np.nan, inplace = True)\n",
    "enron_data.info()"
   ]
  },
  {
   "cell_type": "markdown",
   "metadata": {},
   "source": [
    "Veri setimiz binlerce veya onbinlerce satır ve sütundan oluşmadığından tamamını görüntüleyip bir göz atmanın yararı olacaktır. Bir önceki kod hücresinde görüleceği üzere veri yapıları için uygun bir kütüphane olan Pandas'ı kullandım. Python sözlüğü(dictionary) türündeki veriyi Pandas'ı kullanarak 'enron_data' olarak adlandırdığım bir DataFrame'e dönüştürdüm. İnceleme sonucunda dikkatimi, kişi adları arasında bir kişiye ait olmadığı anlaşılan 'THE TRAVEL AGENCY IN THE PARK' çekti. Kısa bir araştırma sonucunda bu verinin Enron yönetim kurulu başkanı Kenneth Lay'in kız kardeşine ait şirkete ait olduğunu, Enron'un şirket çapında yaptığı gezilerin organizasyonu için bu şirkete ödeme yaptığını öğrendim. Bu veri noktasını bir kişiyi temsil etmediği için bir sonraki bölüm olan aykırı verilerin tespitinde veri setinden çıkardım. Ancak ifade etmek gerekir ki, hukuki davalarda işletmelerin de bir \"kişi\" olarak görülebildiği durumlarda bu veri noktasının kalması tercih edilirdi. Bir veri noktasının veri setinden çıkarılması karşılaşılan durumun, problemin türüne göre, özelliğine göre değişir. Fark edilen bir diğer veri noktası da 'LOCKHART EUGENE E'dir. Bu kişiye ait hiçbir veri bulunmasa da veri setinde yer almıştır, herhangi bir etkiye sahip olmadığı için o da veri setinden çıkarılmıştır.     "
   ]
  },
  {
   "cell_type": "code",
   "execution_count": 10,
   "metadata": {
    "collapsed": false
   },
   "outputs": [
    {
     "data": {
      "text/html": [
       "<div>\n",
       "<table border=\"1\" class=\"dataframe\">\n",
       "  <thead>\n",
       "    <tr style=\"text-align: right;\">\n",
       "      <th></th>\n",
       "      <th>salary</th>\n",
       "      <th>to_messages</th>\n",
       "      <th>deferral_payments</th>\n",
       "      <th>total_payments</th>\n",
       "      <th>exercised_stock_options</th>\n",
       "      <th>bonus</th>\n",
       "      <th>restricted_stock</th>\n",
       "      <th>shared_receipt_with_poi</th>\n",
       "      <th>restricted_stock_deferred</th>\n",
       "      <th>total_stock_value</th>\n",
       "      <th>...</th>\n",
       "      <th>loan_advances</th>\n",
       "      <th>from_messages</th>\n",
       "      <th>other</th>\n",
       "      <th>from_this_person_to_poi</th>\n",
       "      <th>poi</th>\n",
       "      <th>director_fees</th>\n",
       "      <th>deferred_income</th>\n",
       "      <th>long_term_incentive</th>\n",
       "      <th>email_address</th>\n",
       "      <th>from_poi_to_this_person</th>\n",
       "    </tr>\n",
       "  </thead>\n",
       "  <tbody>\n",
       "    <tr>\n",
       "      <th>ALLEN PHILLIP K</th>\n",
       "      <td>201955.0</td>\n",
       "      <td>2902.0</td>\n",
       "      <td>2869717.0</td>\n",
       "      <td>4484442.0</td>\n",
       "      <td>1729541.0</td>\n",
       "      <td>4175000.0</td>\n",
       "      <td>126027.0</td>\n",
       "      <td>1407.0</td>\n",
       "      <td>-126027.0</td>\n",
       "      <td>1729541.0</td>\n",
       "      <td>...</td>\n",
       "      <td>NaN</td>\n",
       "      <td>2195.0</td>\n",
       "      <td>152.0</td>\n",
       "      <td>65.0</td>\n",
       "      <td>False</td>\n",
       "      <td>NaN</td>\n",
       "      <td>-3081055.0</td>\n",
       "      <td>304805.0</td>\n",
       "      <td>phillip.allen@enron.com</td>\n",
       "      <td>47.0</td>\n",
       "    </tr>\n",
       "    <tr>\n",
       "      <th>BADUM JAMES P</th>\n",
       "      <td>NaN</td>\n",
       "      <td>NaN</td>\n",
       "      <td>178980.0</td>\n",
       "      <td>182466.0</td>\n",
       "      <td>257817.0</td>\n",
       "      <td>NaN</td>\n",
       "      <td>NaN</td>\n",
       "      <td>NaN</td>\n",
       "      <td>NaN</td>\n",
       "      <td>257817.0</td>\n",
       "      <td>...</td>\n",
       "      <td>NaN</td>\n",
       "      <td>NaN</td>\n",
       "      <td>NaN</td>\n",
       "      <td>NaN</td>\n",
       "      <td>False</td>\n",
       "      <td>NaN</td>\n",
       "      <td>NaN</td>\n",
       "      <td>NaN</td>\n",
       "      <td>NaN</td>\n",
       "      <td>NaN</td>\n",
       "    </tr>\n",
       "    <tr>\n",
       "      <th>BANNANTINE JAMES M</th>\n",
       "      <td>477.0</td>\n",
       "      <td>566.0</td>\n",
       "      <td>NaN</td>\n",
       "      <td>916197.0</td>\n",
       "      <td>4046157.0</td>\n",
       "      <td>NaN</td>\n",
       "      <td>1757552.0</td>\n",
       "      <td>465.0</td>\n",
       "      <td>-560222.0</td>\n",
       "      <td>5243487.0</td>\n",
       "      <td>...</td>\n",
       "      <td>NaN</td>\n",
       "      <td>29.0</td>\n",
       "      <td>864523.0</td>\n",
       "      <td>0.0</td>\n",
       "      <td>False</td>\n",
       "      <td>NaN</td>\n",
       "      <td>-5104.0</td>\n",
       "      <td>NaN</td>\n",
       "      <td>james.bannantine@enron.com</td>\n",
       "      <td>39.0</td>\n",
       "    </tr>\n",
       "    <tr>\n",
       "      <th>BAXTER JOHN C</th>\n",
       "      <td>267102.0</td>\n",
       "      <td>NaN</td>\n",
       "      <td>1295738.0</td>\n",
       "      <td>5634343.0</td>\n",
       "      <td>6680544.0</td>\n",
       "      <td>1200000.0</td>\n",
       "      <td>3942714.0</td>\n",
       "      <td>NaN</td>\n",
       "      <td>NaN</td>\n",
       "      <td>10623258.0</td>\n",
       "      <td>...</td>\n",
       "      <td>NaN</td>\n",
       "      <td>NaN</td>\n",
       "      <td>2660303.0</td>\n",
       "      <td>NaN</td>\n",
       "      <td>False</td>\n",
       "      <td>NaN</td>\n",
       "      <td>-1386055.0</td>\n",
       "      <td>1586055.0</td>\n",
       "      <td>NaN</td>\n",
       "      <td>NaN</td>\n",
       "    </tr>\n",
       "    <tr>\n",
       "      <th>BAY FRANKLIN R</th>\n",
       "      <td>239671.0</td>\n",
       "      <td>NaN</td>\n",
       "      <td>260455.0</td>\n",
       "      <td>827696.0</td>\n",
       "      <td>NaN</td>\n",
       "      <td>400000.0</td>\n",
       "      <td>145796.0</td>\n",
       "      <td>NaN</td>\n",
       "      <td>-82782.0</td>\n",
       "      <td>63014.0</td>\n",
       "      <td>...</td>\n",
       "      <td>NaN</td>\n",
       "      <td>NaN</td>\n",
       "      <td>69.0</td>\n",
       "      <td>NaN</td>\n",
       "      <td>False</td>\n",
       "      <td>NaN</td>\n",
       "      <td>-201641.0</td>\n",
       "      <td>NaN</td>\n",
       "      <td>frank.bay@enron.com</td>\n",
       "      <td>NaN</td>\n",
       "    </tr>\n",
       "    <tr>\n",
       "      <th>BAZELIDES PHILIP J</th>\n",
       "      <td>80818.0</td>\n",
       "      <td>NaN</td>\n",
       "      <td>684694.0</td>\n",
       "      <td>860136.0</td>\n",
       "      <td>1599641.0</td>\n",
       "      <td>NaN</td>\n",
       "      <td>NaN</td>\n",
       "      <td>NaN</td>\n",
       "      <td>NaN</td>\n",
       "      <td>1599641.0</td>\n",
       "      <td>...</td>\n",
       "      <td>NaN</td>\n",
       "      <td>NaN</td>\n",
       "      <td>874.0</td>\n",
       "      <td>NaN</td>\n",
       "      <td>False</td>\n",
       "      <td>NaN</td>\n",
       "      <td>NaN</td>\n",
       "      <td>93750.0</td>\n",
       "      <td>NaN</td>\n",
       "      <td>NaN</td>\n",
       "    </tr>\n",
       "    <tr>\n",
       "      <th>BECK SALLY W</th>\n",
       "      <td>231330.0</td>\n",
       "      <td>7315.0</td>\n",
       "      <td>NaN</td>\n",
       "      <td>969068.0</td>\n",
       "      <td>NaN</td>\n",
       "      <td>700000.0</td>\n",
       "      <td>126027.0</td>\n",
       "      <td>2639.0</td>\n",
       "      <td>NaN</td>\n",
       "      <td>126027.0</td>\n",
       "      <td>...</td>\n",
       "      <td>NaN</td>\n",
       "      <td>4343.0</td>\n",
       "      <td>566.0</td>\n",
       "      <td>386.0</td>\n",
       "      <td>False</td>\n",
       "      <td>NaN</td>\n",
       "      <td>NaN</td>\n",
       "      <td>NaN</td>\n",
       "      <td>sally.beck@enron.com</td>\n",
       "      <td>144.0</td>\n",
       "    </tr>\n",
       "    <tr>\n",
       "      <th>BELDEN TIMOTHY N</th>\n",
       "      <td>213999.0</td>\n",
       "      <td>7991.0</td>\n",
       "      <td>2144013.0</td>\n",
       "      <td>5501630.0</td>\n",
       "      <td>953136.0</td>\n",
       "      <td>5249999.0</td>\n",
       "      <td>157569.0</td>\n",
       "      <td>5521.0</td>\n",
       "      <td>NaN</td>\n",
       "      <td>1110705.0</td>\n",
       "      <td>...</td>\n",
       "      <td>NaN</td>\n",
       "      <td>484.0</td>\n",
       "      <td>210698.0</td>\n",
       "      <td>108.0</td>\n",
       "      <td>True</td>\n",
       "      <td>NaN</td>\n",
       "      <td>-2334434.0</td>\n",
       "      <td>NaN</td>\n",
       "      <td>tim.belden@enron.com</td>\n",
       "      <td>228.0</td>\n",
       "    </tr>\n",
       "    <tr>\n",
       "      <th>BELFER ROBERT</th>\n",
       "      <td>NaN</td>\n",
       "      <td>NaN</td>\n",
       "      <td>-102500.0</td>\n",
       "      <td>102500.0</td>\n",
       "      <td>3285.0</td>\n",
       "      <td>NaN</td>\n",
       "      <td>NaN</td>\n",
       "      <td>NaN</td>\n",
       "      <td>44093.0</td>\n",
       "      <td>-44093.0</td>\n",
       "      <td>...</td>\n",
       "      <td>NaN</td>\n",
       "      <td>NaN</td>\n",
       "      <td>NaN</td>\n",
       "      <td>NaN</td>\n",
       "      <td>False</td>\n",
       "      <td>3285.0</td>\n",
       "      <td>NaN</td>\n",
       "      <td>NaN</td>\n",
       "      <td>NaN</td>\n",
       "      <td>NaN</td>\n",
       "    </tr>\n",
       "    <tr>\n",
       "      <th>BERBERIAN DAVID</th>\n",
       "      <td>216582.0</td>\n",
       "      <td>NaN</td>\n",
       "      <td>NaN</td>\n",
       "      <td>228474.0</td>\n",
       "      <td>1624396.0</td>\n",
       "      <td>NaN</td>\n",
       "      <td>869220.0</td>\n",
       "      <td>NaN</td>\n",
       "      <td>NaN</td>\n",
       "      <td>2493616.0</td>\n",
       "      <td>...</td>\n",
       "      <td>NaN</td>\n",
       "      <td>NaN</td>\n",
       "      <td>NaN</td>\n",
       "      <td>NaN</td>\n",
       "      <td>False</td>\n",
       "      <td>NaN</td>\n",
       "      <td>NaN</td>\n",
       "      <td>NaN</td>\n",
       "      <td>david.berberian@enron.com</td>\n",
       "      <td>NaN</td>\n",
       "    </tr>\n",
       "  </tbody>\n",
       "</table>\n",
       "<p>10 rows × 21 columns</p>\n",
       "</div>"
      ],
      "text/plain": [
       "                      salary  to_messages  deferral_payments  total_payments  \\\n",
       "ALLEN PHILLIP K     201955.0       2902.0          2869717.0       4484442.0   \n",
       "BADUM JAMES P            NaN          NaN           178980.0        182466.0   \n",
       "BANNANTINE JAMES M     477.0        566.0                NaN        916197.0   \n",
       "BAXTER JOHN C       267102.0          NaN          1295738.0       5634343.0   \n",
       "BAY FRANKLIN R      239671.0          NaN           260455.0        827696.0   \n",
       "BAZELIDES PHILIP J   80818.0          NaN           684694.0        860136.0   \n",
       "BECK SALLY W        231330.0       7315.0                NaN        969068.0   \n",
       "BELDEN TIMOTHY N    213999.0       7991.0          2144013.0       5501630.0   \n",
       "BELFER ROBERT            NaN          NaN          -102500.0        102500.0   \n",
       "BERBERIAN DAVID     216582.0          NaN                NaN        228474.0   \n",
       "\n",
       "                    exercised_stock_options      bonus  restricted_stock  \\\n",
       "ALLEN PHILLIP K                   1729541.0  4175000.0          126027.0   \n",
       "BADUM JAMES P                      257817.0        NaN               NaN   \n",
       "BANNANTINE JAMES M                4046157.0        NaN         1757552.0   \n",
       "BAXTER JOHN C                     6680544.0  1200000.0         3942714.0   \n",
       "BAY FRANKLIN R                          NaN   400000.0          145796.0   \n",
       "BAZELIDES PHILIP J                1599641.0        NaN               NaN   \n",
       "BECK SALLY W                            NaN   700000.0          126027.0   \n",
       "BELDEN TIMOTHY N                   953136.0  5249999.0          157569.0   \n",
       "BELFER ROBERT                        3285.0        NaN               NaN   \n",
       "BERBERIAN DAVID                   1624396.0        NaN          869220.0   \n",
       "\n",
       "                    shared_receipt_with_poi  restricted_stock_deferred  \\\n",
       "ALLEN PHILLIP K                      1407.0                  -126027.0   \n",
       "BADUM JAMES P                           NaN                        NaN   \n",
       "BANNANTINE JAMES M                    465.0                  -560222.0   \n",
       "BAXTER JOHN C                           NaN                        NaN   \n",
       "BAY FRANKLIN R                          NaN                   -82782.0   \n",
       "BAZELIDES PHILIP J                      NaN                        NaN   \n",
       "BECK SALLY W                         2639.0                        NaN   \n",
       "BELDEN TIMOTHY N                     5521.0                        NaN   \n",
       "BELFER ROBERT                           NaN                    44093.0   \n",
       "BERBERIAN DAVID                         NaN                        NaN   \n",
       "\n",
       "                    total_stock_value           ...            loan_advances  \\\n",
       "ALLEN PHILLIP K             1729541.0           ...                      NaN   \n",
       "BADUM JAMES P                257817.0           ...                      NaN   \n",
       "BANNANTINE JAMES M          5243487.0           ...                      NaN   \n",
       "BAXTER JOHN C              10623258.0           ...                      NaN   \n",
       "BAY FRANKLIN R                63014.0           ...                      NaN   \n",
       "BAZELIDES PHILIP J          1599641.0           ...                      NaN   \n",
       "BECK SALLY W                 126027.0           ...                      NaN   \n",
       "BELDEN TIMOTHY N            1110705.0           ...                      NaN   \n",
       "BELFER ROBERT                -44093.0           ...                      NaN   \n",
       "BERBERIAN DAVID             2493616.0           ...                      NaN   \n",
       "\n",
       "                    from_messages      other  from_this_person_to_poi    poi  \\\n",
       "ALLEN PHILLIP K            2195.0      152.0                     65.0  False   \n",
       "BADUM JAMES P                 NaN        NaN                      NaN  False   \n",
       "BANNANTINE JAMES M           29.0   864523.0                      0.0  False   \n",
       "BAXTER JOHN C                 NaN  2660303.0                      NaN  False   \n",
       "BAY FRANKLIN R                NaN       69.0                      NaN  False   \n",
       "BAZELIDES PHILIP J            NaN      874.0                      NaN  False   \n",
       "BECK SALLY W               4343.0      566.0                    386.0  False   \n",
       "BELDEN TIMOTHY N            484.0   210698.0                    108.0   True   \n",
       "BELFER ROBERT                 NaN        NaN                      NaN  False   \n",
       "BERBERIAN DAVID               NaN        NaN                      NaN  False   \n",
       "\n",
       "                   director_fees  deferred_income  long_term_incentive  \\\n",
       "ALLEN PHILLIP K              NaN       -3081055.0             304805.0   \n",
       "BADUM JAMES P                NaN              NaN                  NaN   \n",
       "BANNANTINE JAMES M           NaN          -5104.0                  NaN   \n",
       "BAXTER JOHN C                NaN       -1386055.0            1586055.0   \n",
       "BAY FRANKLIN R               NaN        -201641.0                  NaN   \n",
       "BAZELIDES PHILIP J           NaN              NaN              93750.0   \n",
       "BECK SALLY W                 NaN              NaN                  NaN   \n",
       "BELDEN TIMOTHY N             NaN       -2334434.0                  NaN   \n",
       "BELFER ROBERT             3285.0              NaN                  NaN   \n",
       "BERBERIAN DAVID              NaN              NaN                  NaN   \n",
       "\n",
       "                                 email_address from_poi_to_this_person  \n",
       "ALLEN PHILLIP K        phillip.allen@enron.com                    47.0  \n",
       "BADUM JAMES P                              NaN                     NaN  \n",
       "BANNANTINE JAMES M  james.bannantine@enron.com                    39.0  \n",
       "BAXTER JOHN C                              NaN                     NaN  \n",
       "BAY FRANKLIN R             frank.bay@enron.com                     NaN  \n",
       "BAZELIDES PHILIP J                         NaN                     NaN  \n",
       "BECK SALLY W              sally.beck@enron.com                   144.0  \n",
       "BELDEN TIMOTHY N          tim.belden@enron.com                   228.0  \n",
       "BELFER ROBERT                              NaN                     NaN  \n",
       "BERBERIAN DAVID      david.berberian@enron.com                     NaN  \n",
       "\n",
       "[10 rows x 21 columns]"
      ]
     },
     "execution_count": 10,
     "metadata": {},
     "output_type": "execute_result"
    }
   ],
   "source": [
    "# Veri setinin Pandas ile 'DataFrame' tablo şeklinde gösterimi\n",
    "#pd.options.display.max_rows = 150\n",
    "# Blog gönderisinde ilk 10 satır gösterilmiştir.\n",
    "enron_data.head(10)"
   ]
  },
  {
   "cell_type": "markdown",
   "metadata": {},
   "source": [
    "## Aykırı verilerin yakalanması"
   ]
  },
  {
   "cell_type": "markdown",
   "metadata": {},
   "source": [
    "Diğer değerlerle karşılaştırıldığında veri setine uygun olmadığı belirlenen aşırı değerlere sahip aykırı veriler (outliers), yapacağımız istatistiksel analizlerde ve modellemelerde olumsuz etkiye sebep olacağından bu değerlerin tespit edilerek veri setinden ayıklanması önceliklidir. Aykırı verilere sebep olan nedenler arasında verinin toplanma türüne göre alıcı/sensör bozuklukları, veri girişinde yapılan hatalar zaman zaman göz ardı veya tolere edilebilirken; uçuk ve anormal durumlara mutlaka dikkat edilmeli ve sebepleri araştırılmalıdır. Veri setimizde aykırı verilerin tespitinde makine öğreniminin önemli araçlarından biri olan korelasyonu kullanacağız. Buna göre herhangi iki nitelik arasındaki ilişkiyi görselleştirerek varsa aykırı değeri belirleyeceğiz. Ders içindeki uygulamada olduğu gibi 'salary' ve 'feature' niteliklerini seçtim."
   ]
  },
  {
   "cell_type": "code",
   "execution_count": 11,
   "metadata": {
    "collapsed": false
   },
   "outputs": [
    {
     "data": {
      "image/png": "[encoded data removed]",
      "text/plain": [
       "<matplotlib.figure.Figure at 0xab099aec>"
      ]
     },
     "metadata": {},
     "output_type": "display_data"
    }
   ],
   "source": [
    "# Seçilen iki özelliğin görselleştirilmesi\n",
    "features = ['salary', 'bonus']\n",
    "data = featureFormat(data_dict, features)\n",
    "\n",
    "for point in data:\n",
    "    salary = point[0]\n",
    "    bonus = point[1]\n",
    "    plt.scatter(salary, bonus)\n",
    "    \n",
    "plt.xlabel(\"salary\")\n",
    "plt.ylabel(\"bonus\")\n",
    "plt.show()"
   ]
  },
  {
   "cell_type": "markdown",
   "metadata": {},
   "source": [
    "Grafikte görüldüğü üzere değerlerin çoğunluğu sol altta birikirken, tek bir değer grafiğin sağ üst köşesinde yer almaktadır. Anormal bir durum olduğu aşikar. Bu değeri alt hücrede yer alan kodlarla belirlediğimizde, verinin 'TOTAL'e ait olduğu anlaşılmıştır. Bu demek oluyor ki, veri setinde yer alan tüm kişilere ait özelliklerin değerleri toplamı da veri setine dahildir. Dolayısıyla analiz ve modellemelerde olumsuz etki yaratacağından 'TOTAL', veri setinden çıkarılmıştır. Aynı zamanda, daha önce bahsedildiği üzere hiçbir değere sahip olmayan 'LOCKHART EUGENE E', herhangi bir etki yaratmayacağından bu aşamada veri setinden çıkarılmıştır.  "
   ]
  },
  {
   "cell_type": "code",
   "execution_count": 12,
   "metadata": {
    "collapsed": false
   },
   "outputs": [
    {
     "name": "stdout",
     "output_type": "stream",
     "text": [
      "TOTAL\n"
     ]
    }
   ],
   "source": [
    "# En yüksek 'salary' değerinin bulunması\n",
    "salary = []\n",
    "for k in data_dict:\n",
    "    if data_dict[k]['salary'] != 'NaN':\n",
    "        salary.append(data_dict[k]['salary'])\n",
    "for k in data_dict:\n",
    "    if data_dict[k]['salary'] == max(salary):\n",
    "        print k"
   ]
  },
  {
   "cell_type": "code",
   "execution_count": 13,
   "metadata": {
    "collapsed": false
   },
   "outputs": [
    {
     "data": {
      "text/plain": [
       "{'bonus': 97343619,\n",
       " 'deferral_payments': 32083396,\n",
       " 'deferred_income': -27992891,\n",
       " 'director_fees': 1398517,\n",
       " 'email_address': 'NaN',\n",
       " 'exercised_stock_options': 311764000,\n",
       " 'expenses': 5235198,\n",
       " 'from_messages': 'NaN',\n",
       " 'from_poi_to_this_person': 'NaN',\n",
       " 'from_this_person_to_poi': 'NaN',\n",
       " 'loan_advances': 83925000,\n",
       " 'long_term_incentive': 48521928,\n",
       " 'other': 42667589,\n",
       " 'poi': False,\n",
       " 'restricted_stock': 130322299,\n",
       " 'restricted_stock_deferred': -7576788,\n",
       " 'salary': 26704229,\n",
       " 'shared_receipt_with_poi': 'NaN',\n",
       " 'to_messages': 'NaN',\n",
       " 'total_payments': 309886585,\n",
       " 'total_stock_value': 434509511}"
      ]
     },
     "execution_count": 13,
     "metadata": {},
     "output_type": "execute_result"
    }
   ],
   "source": [
    "# Belirlenen aykırı ve diğer verilerin veri setinden çıkarılması\n",
    "data_dict.pop('THE TRAVEL AGENCY IN THE PARK', 0)\n",
    "data_dict.pop('LOCKHART EUGENE E', 0)\n",
    "data_dict.pop('TOTAL', 0)"
   ]
  },
  {
   "cell_type": "markdown",
   "metadata": {},
   "source": [
    "Tespit edilen aykırı değer 'TOTAL'in veri setinden çıkarılması sonrasında 'salary' ve 'bonus' niteliklerimizi bu işlem sonrası tekrar görselleştirdiğimizde veri noktaları yoğunluğunun dışındaki bazı değerler dikkat çekiyor. Bu değerlerin kime ait olduğunu öğrenmek için 'salary', yani maaş miktarlarına göre en yüksek 4 değeri ve 'bonus' miktarlarına göre en yüksek 3 değeri sıraladığımızda, ikisinde de 'SKILLING JEFFREY K' ve 'LAY KENNETH L'e ait değerler olduğunu saptıyoruz. Görsele ilk bakışta hem X hem de Y ekseninde bu iki değer uç noktalarda gözükse de bu değerlere sahip iki isim Enron'un CEO'su ve yönetim kurulu başkanı olarak skandalın kilit isimleri olması nedeniyle araştırmamızda önem arz ediyor. Çünkü Jeffrey Skilling ve Kenneth Lay'i analizin dışında tutmak tüm Enron hikayesini değiştirmek anlamına gelir. Veri setinde aykırı değer tespitini tamamlayarak bir sonraki aşama olan özellik(feature) seçimine geçiyoruz."
   ]
  },
  {
   "cell_type": "code",
   "execution_count": 14,
   "metadata": {
    "collapsed": false
   },
   "outputs": [
    {
     "data": {
      "image/png": "[encoded data removed]",
      "text/plain": [
       "<matplotlib.figure.Figure at 0xa99586cc>"
      ]
     },
     "metadata": {},
     "output_type": "display_data"
    }
   ],
   "source": [
    "# Aykırı veri ve belirlenen iki özel veri noktasının çıkarılması sonrası görselleştirme \n",
    "features = ['salary', 'bonus']\n",
    "data = featureFormat(data_dict, features)\n",
    "for point in data:\n",
    "    salary = point[0]\n",
    "    bonus = point[1]\n",
    "    plt.scatter(salary, bonus)\n",
    "    \n",
    "plt.xlabel(\"salary\")\n",
    "plt.ylabel(\"bonus\")\n",
    "plt.show()"
   ]
  },
  {
   "cell_type": "code",
   "execution_count": 15,
   "metadata": {
    "collapsed": false
   },
   "outputs": [
    {
     "data": {
      "text/plain": [
       "[('SKILLING JEFFREY K', 1111258),\n",
       " ('LAY KENNETH L', 1072321),\n",
       " ('FREVERT MARK A', 1060932),\n",
       " ('PICKERING MARK R', 655037)]"
      ]
     },
     "execution_count": 15,
     "metadata": {},
     "output_type": "execute_result"
    }
   ],
   "source": [
    "# Görsele göre en yüksek 'salary' değerlerinin kimlere ait olduğunun bulunması\n",
    "max4_salary = []\n",
    "for person in data_dict:\n",
    "    amount = data_dict[person]['salary']\n",
    "    if amount == 'NaN':\n",
    "        continue\n",
    "    max4_salary.append((person, int(amount)))\n",
    "\n",
    "max4_salary = (sorted(max4_salary,key=lambda x:x[1],reverse=True)[:4])\n",
    "max4_salary"
   ]
  },
  {
   "cell_type": "code",
   "execution_count": 16,
   "metadata": {
    "collapsed": false
   },
   "outputs": [
    {
     "data": {
      "text/plain": [
       "[('LAVORATO JOHN J', 8000000),\n",
       " ('LAY KENNETH L', 7000000),\n",
       " ('SKILLING JEFFREY K', 5600000)]"
      ]
     },
     "execution_count": 16,
     "metadata": {},
     "output_type": "execute_result"
    }
   ],
   "source": [
    "#Görsele göre en yüksek 'bonus' değerlerinin kimlere ait olduğunun bulunması\n",
    "max3_bonus = []\n",
    "for person in data_dict:\n",
    "    amount = data_dict[person]['bonus']\n",
    "    if amount == 'NaN':\n",
    "        continue\n",
    "    max3_bonus.append((person, int(amount)))\n",
    "\n",
    "max3_bonus = (sorted(max3_bonus,key=lambda x:x[1],reverse=True)[:3])\n",
    "max3_bonus"
   ]
  },
  {
   "cell_type": "markdown",
   "metadata": {},
   "source": [
    "### Yeni özellik oluşturulması"
   ]
  },
  {
   "cell_type": "markdown",
   "metadata": {},
   "source": [
    "Eldeki özellikleri seçime tabi tutmadan önce -proje görevi olması nedeniyle de- yeni özellik yaratmaya çalışacağım. Bunda amaç var olan özellikleri kullanarak kendi sezgimizle yarattığımız, modellememizde doğruluk, tahmin oranlarında daha iyi sonuçlar almayı sağlayacak yeni özellikleri analize dahil etmek. Açıkçası yeni özellik oluşturulmasında Udacity'deki ders içeriğine bağlı kaldım ve eposta özellikleri üzerinden yeni bir özellik yaratmayı tercih ettim. Kişinin, POI'lerden aldığı('from_poi_to_this_person'), POI'lere gönderdiği('from_this_person_to_poi'), POI'ler ile aynı gönderim listesinde yer aldığı('shared_receipt_with_poi') eposta sayısı toplamının kişinin toplam eposta yazışmaları sayısına('from_messages'+'to_messages') oranını veren, oluşturduğum bu özelliğe 'poi_mailing_factor' adını verdim. 'poi_mailing_factor' özelliğini yaratmada; eğer bir kişi POI ise, tüm eposta yazışmaları içinde, diğer POI'ler ile eposta yazışmaları sayısının POI olmayan bir kişininkine göre daha fazla olacağı önsezisiyle, bu değerin POI kişilerde daha yüksek olacağını varsayarak POI bulucu modelimizde ayırt edici bir özellik olacağını düşündüm.   "
   ]
  },
  {
   "cell_type": "code",
   "execution_count": 17,
   "metadata": {
    "collapsed": true
   },
   "outputs": [],
   "source": [
    "# Yeni özellik oluşturulması\n",
    "for person in data_dict:\n",
    "        \n",
    "        try:\n",
    "            total_messages = data_dict[person]['from_messages'] + data_dict[person]['to_messages']\n",
    "            from_poi = data_dict[person][\"from_poi_to_this_person\"]\n",
    "            to_poi =  data_dict[person][\"from_this_person_to_poi\"]\n",
    "            shared_poi = data_dict[person][\"shared_receipt_with_poi\"]\n",
    "            \n",
    "            poi_involved_messages = from_poi + to_poi + shared_poi \n",
    "            #convert data types to float\n",
    "            total_messages = float(total_messages)\n",
    "            from_poi = float(from_poi)\n",
    "            to_poi = float(to_poi)\n",
    "            shared_poi = float(shared_poi)\n",
    "            \n",
    "\n",
    "            poi_mailing_factor = poi_involved_messages / total_messages\n",
    "            data_dict[person]['poi_mailing_factor'] = poi_mailing_factor\n",
    "\n",
    "        except:\n",
    "            data_dict[person]['poi_mailing_factor'] = 'NaN'"
   ]
  },
  {
   "cell_type": "markdown",
   "metadata": {},
   "source": [
    "Yeni özelliğin oluşturulması sonrasında, aykırı değerlerden temizlenmiş 'data_dict' adlı veri setinin son halini 'my_dataset' adına eşitledim. Oluşturulan yeni özelliğin de eklenmesiyle veri setindeki özelliklerden 'features_list' adında özellik listesi oluşturdum. Mevcut özellikler arasında 'email_address' hem diğer özellikler sayısal iken metin (string) türünde olduğundan, hem de modelleme sürecinde herhangi bir etkiye sahip olmayacağından analize tabi tutulacak özellik listesinden çıkarttım. Bu noktada, 'feature_list' in oluşturulmasında önemli husus; bir kişinin POI olup olmadığı bilgisini veren 'poi'nin, hedef özelliğimiz olduğu için listenin başına yerleştirilmesidir.  "
   ]
  },
  {
   "cell_type": "code",
   "execution_count": 18,
   "metadata": {
    "collapsed": false
   },
   "outputs": [],
   "source": [
    "my_dataset = data_dict"
   ]
  },
  {
   "cell_type": "code",
   "execution_count": 19,
   "metadata": {
    "collapsed": false
   },
   "outputs": [],
   "source": [
    "for key in data_dict:\n",
    "    f = data_dict[key].keys()\n",
    "f.remove('email_address')\n",
    "f.remove('poi')\n",
    "f.insert(0, 'poi')\n",
    "features_list = f"
   ]
  },
  {
   "cell_type": "code",
   "execution_count": 20,
   "metadata": {
    "collapsed": false
   },
   "outputs": [],
   "source": [
    "data = featureFormat(my_dataset, features_list, sort_keys = True)\n",
    "labels, features = targetFeatureSplit(data)"
   ]
  },
  {
   "cell_type": "markdown",
   "metadata": {},
   "source": [
    "Buraya kadar yaptığımız işlemlerle birlikte veri setimiz makine öğrenimi için hazır bir aşamaya geldi. Bundan sonra yapacaklarımız, en iyi değerlendirme metriklerine sahip modellemenin oluşturulması için makineye sahip olduğumuz verilerin öğretilmesinde en uygun algoritma ve parametrelerin seçilmesi olacak. Her ne kadar bunu en uygun yöntemin seçilmesi olarak tek cümlede ifade etsek de, bu süreç de içerisinde birden fazla uygunluğun arayışını barındıracak. Bu blog gönderisi makine öğrenimine ilgi duyanlara, yeni başlayanlara konseptlerin anlaşılması için bir uygulama örneği olduğu için uygun algoritma ve parametrelerin bulunmasını sağlayan kısayolların direkt anlatımı yerine, aşama aşama, çalıştır-değerlendir-değiştir yaparak, en iyi değerlendirme metriklerine sahip modellemenin oluşturulması sürecinin nasıl şekillendiğini ortaya koymaya çalışacağım. "
   ]
  },
  {
   "cell_type": "markdown",
   "metadata": {},
   "source": [
    "# Özellik seçimi"
   ]
  },
  {
   "cell_type": "markdown",
   "metadata": {},
   "source": [
    "Özellik seçiminde amacımız bir kişinin POI olup olmadığını belirlemede etkisiz veya olumsuz etkiye sahip özelliklerin (features) belirlenerek analiz dışında tutulmasıdır. Modellememizde yer almasını istemeyeceğimiz özellikler,  aşırı uyuma (overfitting) neden olan, hedef niteliğimiz olan 'poi' ile yüksek korelasyonlu değerlere sahip olabileceği gibi, düşük korelasyonlu, 'train/test' sürecini yavaşlatacak etkisiz özellikler de olabilir. Algoritma seçimi öncesinde algoritmaya dahil edilecek özelliklerin seçimi, algoritmanın değerlendirme metriklerini değiştiren ana etkenlerden biri olması nedeniyle önem arz etmektedir. Özellik seçiminde amacımız; ölçülebilir değerlerden oluşan çok sayıda özelliğin içinde en çok bilgiyi barındıran saklı özelliklerin ortaya çıkarılması ve böylece belirlenen salt bu özelliklerin algoritmaya dahil edilmesiyle modellememizin başarım ölçütlerinin artırılmasıdır."
   ]
  },
  {
   "cell_type": "markdown",
   "metadata": {},
   "source": [
    "### SelectKBest"
   ]
  },
  {
   "cell_type": "markdown",
   "metadata": {},
   "source": [
    "Uygulamamızda, ön işleme sonrası ('email_address'in çıkarılması, 'poi_mailing_factor'un eklenmesi sonrası) veri setinde hedef özelliğimiz 'poi' dahil toplam 21 nitelik bulunmakta. Özellik sayısının fazla olmaması nedeniyle sezgisel olarak kendimizin bu özellikleri elle seçebilmesi mümkün bir seçenek olarak görünse de, hangi özelliklerin kaçının birlikte algoritmaya dahil edilmesi yüzlerce kombinasyonun denenmesini gerektireceğinden elle seçim tercihini saf dışı bıraktım. Scikit-learn'ün mahareti işte bu aşamada devreye giriyor, özellik seçimi araçlarından (sklearn.feature_selection) SelectKBest, problemimizde tek değişkenli istatistik testlerine dayanarak hedef özellik('poi') ile ilişkili en iyi özellikleri belirliyor (sklearn'in dieğr özellik seçimi modülleri için bkz. sklearn.feature_selection). Mevcut özelliklerin 'poi' özelliği üzerindeki etkisini gözlemlemek amacıyla scikit-learn özellik seçimi araçlarından SelectKBest kullanılarak en büyük F değerine sahip on özellik aşağıda gösterilmiştir. (SelectKBest, 'score_func' parametresi belirtilmediği sürece 'default' olarak ANOVA-F değerini vermektedir.)"
   ]
  },
  {
   "cell_type": "code",
   "execution_count": 21,
   "metadata": {
    "collapsed": false
   },
   "outputs": [
    {
     "data": {
      "text/html": [
       "<div>\n",
       "<table border=\"1\" class=\"dataframe\">\n",
       "  <thead>\n",
       "    <tr style=\"text-align: right;\">\n",
       "      <th></th>\n",
       "      <th>Nitelik</th>\n",
       "      <th>Skor</th>\n",
       "    </tr>\n",
       "  </thead>\n",
       "  <tbody>\n",
       "    <tr>\n",
       "      <th>18</th>\n",
       "      <td>exercised_stock_options</td>\n",
       "      <td>24.815080</td>\n",
       "    </tr>\n",
       "    <tr>\n",
       "      <th>12</th>\n",
       "      <td>total_stock_value</td>\n",
       "      <td>24.182899</td>\n",
       "    </tr>\n",
       "    <tr>\n",
       "      <th>11</th>\n",
       "      <td>bonus</td>\n",
       "      <td>20.792252</td>\n",
       "    </tr>\n",
       "    <tr>\n",
       "      <th>16</th>\n",
       "      <td>salary</td>\n",
       "      <td>18.289684</td>\n",
       "    </tr>\n",
       "    <tr>\n",
       "      <th>3</th>\n",
       "      <td>deferred_income</td>\n",
       "      <td>11.458477</td>\n",
       "    </tr>\n",
       "    <tr>\n",
       "      <th>19</th>\n",
       "      <td>poi_mailing_factor</td>\n",
       "      <td>10.019415</td>\n",
       "    </tr>\n",
       "    <tr>\n",
       "      <th>4</th>\n",
       "      <td>long_term_incentive</td>\n",
       "      <td>9.922186</td>\n",
       "    </tr>\n",
       "    <tr>\n",
       "      <th>15</th>\n",
       "      <td>restricted_stock</td>\n",
       "      <td>9.212811</td>\n",
       "    </tr>\n",
       "    <tr>\n",
       "      <th>17</th>\n",
       "      <td>total_payments</td>\n",
       "      <td>8.772778</td>\n",
       "    </tr>\n",
       "    <tr>\n",
       "      <th>6</th>\n",
       "      <td>shared_receipt_with_poi</td>\n",
       "      <td>8.589421</td>\n",
       "    </tr>\n",
       "    <tr>\n",
       "      <th>7</th>\n",
       "      <td>loan_advances</td>\n",
       "      <td>7.184056</td>\n",
       "    </tr>\n",
       "    <tr>\n",
       "      <th>2</th>\n",
       "      <td>expenses</td>\n",
       "      <td>6.094173</td>\n",
       "    </tr>\n",
       "    <tr>\n",
       "      <th>13</th>\n",
       "      <td>from_poi_to_this_person</td>\n",
       "      <td>5.243450</td>\n",
       "    </tr>\n",
       "    <tr>\n",
       "      <th>9</th>\n",
       "      <td>other</td>\n",
       "      <td>4.187478</td>\n",
       "    </tr>\n",
       "    <tr>\n",
       "      <th>14</th>\n",
       "      <td>from_this_person_to_poi</td>\n",
       "      <td>2.382612</td>\n",
       "    </tr>\n",
       "    <tr>\n",
       "      <th>10</th>\n",
       "      <td>director_fees</td>\n",
       "      <td>2.126328</td>\n",
       "    </tr>\n",
       "    <tr>\n",
       "      <th>0</th>\n",
       "      <td>to_messages</td>\n",
       "      <td>1.646341</td>\n",
       "    </tr>\n",
       "    <tr>\n",
       "      <th>1</th>\n",
       "      <td>deferral_payments</td>\n",
       "      <td>0.224611</td>\n",
       "    </tr>\n",
       "    <tr>\n",
       "      <th>8</th>\n",
       "      <td>from_messages</td>\n",
       "      <td>0.169701</td>\n",
       "    </tr>\n",
       "    <tr>\n",
       "      <th>5</th>\n",
       "      <td>restricted_stock_deferred</td>\n",
       "      <td>0.065500</td>\n",
       "    </tr>\n",
       "  </tbody>\n",
       "</table>\n",
       "</div>"
      ],
      "text/plain": [
       "                      Nitelik       Skor\n",
       "18    exercised_stock_options  24.815080\n",
       "12          total_stock_value  24.182899\n",
       "11                      bonus  20.792252\n",
       "16                     salary  18.289684\n",
       "3             deferred_income  11.458477\n",
       "19         poi_mailing_factor  10.019415\n",
       "4         long_term_incentive   9.922186\n",
       "15           restricted_stock   9.212811\n",
       "17             total_payments   8.772778\n",
       "6     shared_receipt_with_poi   8.589421\n",
       "7               loan_advances   7.184056\n",
       "2                    expenses   6.094173\n",
       "13    from_poi_to_this_person   5.243450\n",
       "9                       other   4.187478\n",
       "14    from_this_person_to_poi   2.382612\n",
       "10              director_fees   2.126328\n",
       "0                 to_messages   1.646341\n",
       "1           deferral_payments   0.224611\n",
       "8               from_messages   0.169701\n",
       "5   restricted_stock_deferred   0.065500"
      ]
     },
     "execution_count": 21,
     "metadata": {},
     "output_type": "execute_result"
    }
   ],
   "source": [
    "from sklearn.feature_selection import SelectKBest\n",
    "k_best = SelectKBest(k='all')\n",
    "k_best.fit(features, labels)\n",
    "scores = k_best.scores_\n",
    "unsorted_scores = zip(features_list[1:], scores)\n",
    "SelectKBest_score_table = pd.DataFrame(unsorted_scores, columns = ['Nitelik','Skor']).sort_values(\n",
    "    by= 'Skor', ascending = False)\n",
    "SelectKBest_score_table"
   ]
  },
  {
   "cell_type": "markdown",
   "metadata": {},
   "source": [
    "Tabloda hedef özellik 'poi' üzerinde etkili özellikler önem sırasına göre görülmektedir. Diyebiliriz ki, oluşturacağımız modelde yer alacak özellikler arasında bir kişinin POI olup olmadığını tahmin etmede hisse senedi (exercised_stock_options, total_stock_value), bonus('bonus') ve maaş('salary'), mevcut özellikler arasında en fazla bilgiyi vermektedir. Aynı zamanda oluşturduğumuz yeni özellik 'poi_mailing_factor' skoruyla diğer eposta özelliklerinin önüne geçerek 6. sırada yer almaktadır. Bu noktada belirlenen etkili özelliklerin 'NaN' değerleri oranının bilinmesi önemlidir. Fazla sayıda eksik değeri olan bir özellik yanıltıcı olacaktır. "
   ]
  },
  {
   "cell_type": "code",
   "execution_count": 22,
   "metadata": {
    "collapsed": false
   },
   "outputs": [
    {
     "data": {
      "text/html": [
       "<div>\n",
       "<table border=\"1\" class=\"dataframe\">\n",
       "  <thead>\n",
       "    <tr style=\"text-align: right;\">\n",
       "      <th></th>\n",
       "      <th>Nitelik</th>\n",
       "      <th>Skor</th>\n",
       "      <th>NaN yüzdesi</th>\n",
       "    </tr>\n",
       "  </thead>\n",
       "  <tbody>\n",
       "    <tr>\n",
       "      <th>0</th>\n",
       "      <td>exercised_stock_options</td>\n",
       "      <td>24.815080</td>\n",
       "      <td>29.4</td>\n",
       "    </tr>\n",
       "    <tr>\n",
       "      <th>1</th>\n",
       "      <td>total_stock_value</td>\n",
       "      <td>24.182899</td>\n",
       "      <td>12.6</td>\n",
       "    </tr>\n",
       "    <tr>\n",
       "      <th>2</th>\n",
       "      <td>bonus</td>\n",
       "      <td>20.792252</td>\n",
       "      <td>43.4</td>\n",
       "    </tr>\n",
       "    <tr>\n",
       "      <th>3</th>\n",
       "      <td>salary</td>\n",
       "      <td>18.289684</td>\n",
       "      <td>34.3</td>\n",
       "    </tr>\n",
       "    <tr>\n",
       "      <th>4</th>\n",
       "      <td>deferred_income</td>\n",
       "      <td>11.458477</td>\n",
       "      <td>66.4</td>\n",
       "    </tr>\n",
       "    <tr>\n",
       "      <th>5</th>\n",
       "      <td>poi_mailing_factor</td>\n",
       "      <td>10.019415</td>\n",
       "      <td>39.9</td>\n",
       "    </tr>\n",
       "    <tr>\n",
       "      <th>6</th>\n",
       "      <td>long_term_incentive</td>\n",
       "      <td>9.922186</td>\n",
       "      <td>54.5</td>\n",
       "    </tr>\n",
       "    <tr>\n",
       "      <th>7</th>\n",
       "      <td>restricted_stock</td>\n",
       "      <td>9.212811</td>\n",
       "      <td>23.8</td>\n",
       "    </tr>\n",
       "    <tr>\n",
       "      <th>8</th>\n",
       "      <td>total_payments</td>\n",
       "      <td>8.772778</td>\n",
       "      <td>14.0</td>\n",
       "    </tr>\n",
       "    <tr>\n",
       "      <th>9</th>\n",
       "      <td>shared_receipt_with_poi</td>\n",
       "      <td>8.589421</td>\n",
       "      <td>39.9</td>\n",
       "    </tr>\n",
       "    <tr>\n",
       "      <th>10</th>\n",
       "      <td>loan_advances</td>\n",
       "      <td>7.184056</td>\n",
       "      <td>97.9</td>\n",
       "    </tr>\n",
       "    <tr>\n",
       "      <th>11</th>\n",
       "      <td>expenses</td>\n",
       "      <td>6.094173</td>\n",
       "      <td>34.3</td>\n",
       "    </tr>\n",
       "    <tr>\n",
       "      <th>12</th>\n",
       "      <td>from_poi_to_this_person</td>\n",
       "      <td>5.243450</td>\n",
       "      <td>39.9</td>\n",
       "    </tr>\n",
       "    <tr>\n",
       "      <th>13</th>\n",
       "      <td>other</td>\n",
       "      <td>4.187478</td>\n",
       "      <td>36.4</td>\n",
       "    </tr>\n",
       "    <tr>\n",
       "      <th>14</th>\n",
       "      <td>from_this_person_to_poi</td>\n",
       "      <td>2.382612</td>\n",
       "      <td>39.9</td>\n",
       "    </tr>\n",
       "    <tr>\n",
       "      <th>15</th>\n",
       "      <td>director_fees</td>\n",
       "      <td>2.126328</td>\n",
       "      <td>88.8</td>\n",
       "    </tr>\n",
       "    <tr>\n",
       "      <th>16</th>\n",
       "      <td>to_messages</td>\n",
       "      <td>1.646341</td>\n",
       "      <td>39.9</td>\n",
       "    </tr>\n",
       "    <tr>\n",
       "      <th>17</th>\n",
       "      <td>deferral_payments</td>\n",
       "      <td>0.224611</td>\n",
       "      <td>73.4</td>\n",
       "    </tr>\n",
       "    <tr>\n",
       "      <th>18</th>\n",
       "      <td>from_messages</td>\n",
       "      <td>0.169701</td>\n",
       "      <td>39.9</td>\n",
       "    </tr>\n",
       "    <tr>\n",
       "      <th>19</th>\n",
       "      <td>restricted_stock_deferred</td>\n",
       "      <td>0.065500</td>\n",
       "      <td>88.1</td>\n",
       "    </tr>\n",
       "  </tbody>\n",
       "</table>\n",
       "</div>"
      ],
      "text/plain": [
       "                      Nitelik       Skor  NaN yüzdesi\n",
       "0     exercised_stock_options  24.815080         29.4\n",
       "1           total_stock_value  24.182899         12.6\n",
       "2                       bonus  20.792252         43.4\n",
       "3                      salary  18.289684         34.3\n",
       "4             deferred_income  11.458477         66.4\n",
       "5          poi_mailing_factor  10.019415         39.9\n",
       "6         long_term_incentive   9.922186         54.5\n",
       "7            restricted_stock   9.212811         23.8\n",
       "8              total_payments   8.772778         14.0\n",
       "9     shared_receipt_with_poi   8.589421         39.9\n",
       "10              loan_advances   7.184056         97.9\n",
       "11                   expenses   6.094173         34.3\n",
       "12    from_poi_to_this_person   5.243450         39.9\n",
       "13                      other   4.187478         36.4\n",
       "14    from_this_person_to_poi   2.382612         39.9\n",
       "15              director_fees   2.126328         88.8\n",
       "16                to_messages   1.646341         39.9\n",
       "17          deferral_payments   0.224611         73.4\n",
       "18              from_messages   0.169701         39.9\n",
       "19  restricted_stock_deferred   0.065500         88.1"
      ]
     },
     "execution_count": 22,
     "metadata": {},
     "output_type": "execute_result"
    }
   ],
   "source": [
    "enron_data = pd.DataFrame(my_dataset).transpose()\n",
    "nan_counts_dict = {}\n",
    "for column in enron_data.columns:\n",
    "    enron_data[column] = enron_data[column].replace('NaN',np.nan)\n",
    "    nan_counts = enron_data[column].isnull().sum()\n",
    "    nan_counts_dict[column] = round(float(nan_counts)/float(len(enron_data[column])) * 100, 1)\n",
    "    enron_nan_perc = pd.DataFrame(nan_counts_dict,index = ['NaN yüzdesi']).transpose()\n",
    "    enron_nan_perc.reset_index(level=0,inplace=True)\n",
    "    enron_nan_perc = enron_nan_perc.rename(columns = {'index':'Nitelik'})\n",
    "pd.merge(SelectKBest_score_table, enron_nan_perc, on= 'Nitelik')"
   ]
  },
  {
   "cell_type": "markdown",
   "metadata": {},
   "source": [
    "Tüm özelliklerin dahil olduğu özellik listesi 'features_list' adında iken, SelectKBest ile belirlenen en etkili on özelliğin yer aldığı özellik listemi 'my_features_list' olarak adlandırdım. Sonraki aşamada bu özellik listemin dahil edildiği farklı algoritmaları kullanarak elde edilen sonuçları karşılaştıracağım. Fakat burada belirtmek istediğim istediğim konu; burada seçilen \"10\" özellik birçok deneme sonrası elde edilen algoritma başarım sonuçlarına göre seçilmiştir."
   ]
  },
  {
   "cell_type": "code",
   "execution_count": 23,
   "metadata": {
    "collapsed": false
   },
   "outputs": [],
   "source": [
    "#SelectKBest skorlarına göre en iyi 10 özelliğin seçilerek yeni listenin oluşturulması\n",
    "my_features_list = ['poi'] + SelectKBest_score_table.head(10)['Nitelik'].tolist()"
   ]
  },
  {
   "cell_type": "markdown",
   "metadata": {},
   "source": [
    "Algoritmaların çalıştırılması öncesi ifade etmek istediğim bir diğer önemli konu da literatürde 'feature scaling' olarak geçen özelliklerin ölçeklenmesi/normalizasyonu. Özellik ölçeklemeleri, Standardizasyon(veya uzun adıyla Z skoru normalizasyonu/standardizasyonu) veya Minimum-Maksimum normalizasyonu(ölçeklemesi) olarak gerçekleştirilmektedir. K en yakın komşu, K-means, lojistik regresyon, SVM algoritmalarının ve lineer diskriminant, temel bileşenler, kernel temel bileşenler analizlerinin uygulanmasında özellik ölçeklemelerinin yapılması önem taşımaktadır. Ölçeklemeden bağımsız düşünebilecek tek algoritma ailesi olarak akla ağaç temelli yöntemler gelmektedir. Bizim örneğimizde özellik ölçeklemesi tüm algoritmalara uygulanmış olup, minimum-maksimum normalizasyonu tercih edilmiştir."
   ]
  },
  {
   "cell_type": "code",
   "execution_count": 24,
   "metadata": {
    "collapsed": true
   },
   "outputs": [],
   "source": [
    "# Özellik ölçekleme. Seçilen 'KBest' 10 özelliğin ölçeklenmesi\n",
    "data = featureFormat(my_dataset, my_features_list, sort_keys = True)\n",
    "my_labels, my_features = targetFeatureSplit(data)\n",
    "scaler = preprocessing.MinMaxScaler()\n",
    "my_features = scaler.fit_transform(my_features)"
   ]
  },
  {
   "cell_type": "markdown",
   "metadata": {},
   "source": [
    "## Algoritma seçimi"
   ]
  },
  {
   "cell_type": "code",
   "execution_count": 25,
   "metadata": {
    "collapsed": true
   },
   "outputs": [],
   "source": [
    "from sklearn.naive_bayes import GaussianNB\n",
    "from sklearn.tree import tree\n",
    "from sklearn.ensemble import AdaBoostClassifier\n",
    "from sklearn.cluster import KMeans\n",
    "from sklearn import linear_model\n",
    "gaussian_clf = GaussianNB()\n",
    "decisiontree_clf = tree.DecisionTreeClassifier()\n",
    "adaboost_clf = AdaBoostClassifier()\n",
    "kmeans = KMeans(n_clusters=2)\n",
    "logreg = linear_model.LogisticRegression()"
   ]
  },
  {
   "cell_type": "code",
   "execution_count": 26,
   "metadata": {
    "collapsed": false
   },
   "outputs": [
    {
     "name": "stdout",
     "output_type": "stream",
     "text": [
      "GaussianNB(priors=None)\n",
      "\tAccuracy: 0.83533\tPrecision: 0.36225\tRecall: 0.30900\tF1: 0.33351\tF2: 0.31836\n",
      "\tTotal predictions: 15000\tTrue positives:  618\tFalse positives: 1088\tFalse negatives: 1382\tTrue negatives: 11912\n",
      "\n",
      "None\n",
      "-----------------------------------------------------------------------------------------------------------\n",
      "DecisionTreeClassifier(class_weight=None, criterion='gini', max_depth=None,\n",
      "            max_features=None, max_leaf_nodes=None,\n",
      "            min_impurity_split=1e-07, min_samples_leaf=1,\n",
      "            min_samples_split=2, min_weight_fraction_leaf=0.0,\n",
      "            presort=False, random_state=None, splitter='best')\n",
      "\tAccuracy: 0.80007\tPrecision: 0.24476\tRecall: 0.23950\tF1: 0.24210\tF2: 0.24053\n",
      "\tTotal predictions: 15000\tTrue positives:  479\tFalse positives: 1478\tFalse negatives: 1521\tTrue negatives: 11522\n",
      "\n",
      "None\n",
      "-----------------------------------------------------------------------------------------------------------\n",
      "AdaBoostClassifier(algorithm='SAMME.R', base_estimator=None,\n",
      "          learning_rate=1.0, n_estimators=50, random_state=None)\n",
      "\tAccuracy: 0.83400\tPrecision: 0.33288\tRecall: 0.24400\tF1: 0.28159\tF2: 0.25776\n",
      "\tTotal predictions: 15000\tTrue positives:  488\tFalse positives:  978\tFalse negatives: 1512\tTrue negatives: 12022\n",
      "\n",
      "None\n",
      "-----------------------------------------------------------------------------------------------------------\n",
      "KMeans(algorithm='auto', copy_x=True, init='k-means++', max_iter=300,\n",
      "    n_clusters=2, n_init=10, n_jobs=1, precompute_distances='auto',\n",
      "    random_state=None, tol=0.0001, verbose=0)\n",
      "\tAccuracy: 0.51300\tPrecision: 0.14372\tRecall: 0.53500\tF1: 0.22657\tF2: 0.34639\n",
      "\tTotal predictions: 15000\tTrue positives: 1070\tFalse positives: 6375\tFalse negatives:  930\tTrue negatives: 6625\n",
      "\n",
      "None\n",
      "-----------------------------------------------------------------------------------------------------------\n",
      "LogisticRegression(C=1.0, class_weight=None, dual=False, fit_intercept=True,\n",
      "          intercept_scaling=1, max_iter=100, multi_class='ovr', n_jobs=1,\n",
      "          penalty='l2', random_state=None, solver='liblinear', tol=0.0001,\n",
      "          verbose=0, warm_start=False)\n",
      "\tAccuracy: 0.87553\tPrecision: 0.69501\tRecall: 0.11850\tF1: 0.20248\tF2: 0.14207\n",
      "\tTotal predictions: 15000\tTrue positives:  237\tFalse positives:  104\tFalse negatives: 1763\tTrue negatives: 12896\n",
      "\n",
      "None\n"
     ]
    }
   ],
   "source": [
    "print test_classifier(gaussian_clf, my_dataset, my_features_list, scale_features = True)\n",
    "print ayirac\n",
    "print test_classifier(decisiontree_clf, my_dataset, my_features_list, scale_features = True)\n",
    "print ayirac\n",
    "print test_classifier(adaboost_clf, my_dataset, my_features_list, scale_features = True)\n",
    "print ayirac\n",
    "print test_classifier(kmeans, my_dataset, my_features_list, scale_features = True)\n",
    "print ayirac\n",
    "print test_classifier(logreg, my_dataset, my_features_list, scale_features = True)"
   ]
  },
  {
   "cell_type": "markdown",
   "metadata": {},
   "source": [
    "Sırasıyla Naive Bayes, Karar Ağacı(Decision Tree), Adaboost, K-Means ve Lojistik Regresyon algoritmalarının uygulanması sonucunda elde edilen başarım sonuçları görülmektedir. Başarım sonuçlarına göre en yüksek doğruluk(accuracy), kesinlik(precision), duyarlılık(recall) ve F-ölçütü(F1) değerlerini Naive Bayes algoritması vermektedir. Naive Bayes'in başarım değerlerine en yakın sonuç ise Adaboost algoritmasına ait. İfade ettiğimiz gibi elde edilen bu sonuçlar herhangi bir parametre seçimi yapılmadan, ön fikir veren, geliştirilmeye muhtaç değerlerdir. Ayrıca dikkat edilirse, algoritmaların uygulanmasında herhangi bir parametre seçimi yapılmadan algoritmaların varsayılan(default) parametrelerine göre uygulanmıştır (K_Means algoritması haricinde, çünkü K-Means için 'n_clusters' parametresi varsayılan değeri 10'dur, fakat hedef özelliğimiz 'poi', \"0\" veya \"1\" değerini aldığı için kümeleme sayısı 'n_clusters', 2 olarak belirtilmiştir, aksi halde algoritma hata verir.). Belirtmek istediğim bir diğer husus da, bazı algoritmalar için özelliklerin tümünün ('features_list')dahil edilmesi halinde daha iyi başarım sonucu elde edilebilecekken, anlatımı karmaşıklaştırmamak ve konseptin anlaşılmasına odaklanmak adına algoritmaların hepsinde özellik sayısının 'SelectKBest' ile azaltıldığı ('my_features_list') özellik listesi kullanılmıştır. (Örneğin lojistik regresyonun kullanıldığı analizlerde uygun tüm bağımsız değişkenlerin modele dahil edilmesi daha iyi sonuçlar verirken, bazı değişkenlerin modele dahil edilmemesi hata teriminin büyümesine ve modelin yetersizliğine neden olmaktadır.) (Udacity'den ders takip edip proje üzerinde çalışan arkadaşlara ek not: test_classifier.py dosyasına orjinalinden farklı olarak, özellik ölçekleme yaparak test edilmesi için kod ekledim. İlgili değişiklik Github profilimdeki dosyadan görülebilir.) Sonraki aşamada daha iyi sonuçlar elde etmenin yöntemlerini inceliyor olacağız. "
   ]
  },
  {
   "cell_type": "markdown",
   "metadata": {
    "collapsed": true
   },
   "source": [
    "### PCA (Principal Component Analysis) - Temel Bileşenler Analizi"
   ]
  },
  {
   "cell_type": "markdown",
   "metadata": {},
   "source": [
    "Temel bileşenler analizinde amaç; en az bilgi kaybıyla veri kümesinin boyutlarını küçülterek, özellikler içindeki en güçlü örüntüyü belirlemek için verilerin analiz edilmesidir. Temel bileşen analizinde istenen sonuç, bir özellik alanını (n boyutlu özellikleri içeren veri kümemizi), \"iyi\" verilerimizi temsil eden daha küçük bir alt uzay üzerine yansıtmaktır. Özellik alanı boyutlarının sayısının azaldığı, hedef özelliğimizi \"en iyi\" tanımlayan bir altuzay çıkarmada güdülen amaç ise, hesaplama maliyetlerini ve parametre tahmin hatasını azaltmak istediğimiz bir model yaratmaktır. Bu bağlamda, SelectKBest ile seçilmiş en iyi 10 özelliğimize temel bileşenler analizini uygulayarak, kullandığımız algoritmalara veri setinde boyutu indirgenmiş özellik alanını dahil ederek sonuçları gözlemleyeceğiz. \n",
    "Temel bileşenler analizinin uygulanmasında veri setindeki özelliklerin temel bileşenler analizine tabi tutulmadan önce özellik ölçeklemesi(feature scaling)/normalizasyon yapılması gerekmektedir. Temel bileşenler analizi ile varyansı maksimize eden bileşenler ortaya çıkarıldığı için genellikle minimum-maksimum normalizasyonu (MinMaxScaler) tercih edilmektedir. Örneğimizde \"tutulan varyans\" oranı için %95 değeri seçilmiştir. (Kullanılacak ilk temel bileşenlerin toplam varyansı, orijinal verilerin toplam varyansının %95’i olacaktır.)"
   ]
  },
  {
   "cell_type": "code",
   "execution_count": 27,
   "metadata": {
    "collapsed": true
   },
   "outputs": [],
   "source": [
    "from sklearn.decomposition import PCA\n",
    "var_perc = .95\n",
    "pca = PCA(n_components = var_perc)\n",
    "pca_transform = pca.fit_transform(my_features)"
   ]
  },
  {
   "cell_type": "code",
   "execution_count": 28,
   "metadata": {
    "collapsed": false
   },
   "outputs": [
    {
     "name": "stdout",
     "output_type": "stream",
     "text": [
      "Temel Bileşenler Analizi - PCA\n",
      "\n",
      "Tutulan varyans: 0.95\n",
      " Orjinal Verinin Boyut Sayısı: 10\n",
      " PCA ile indirgenen boyut sayısı: 6\n",
      "\n"
     ]
    }
   ],
   "source": [
    "features_number = len(my_features_list)-1\n",
    "components = pca_transform.shape[1]\n",
    "print 'Temel Bileşenler Analizi - PCA\\n'\n",
    "print 'Tutulan varyans: {0}\\n Orjinal Verinin Boyut Sayısı: {1}\\n PCA ile indirgenen boyut sayısı: {2}\\n'.format(\n",
    "    var_perc, features_number, components)"
   ]
  },
  {
   "cell_type": "markdown",
   "metadata": {
    "collapsed": true
   },
   "source": [
    "Görüldüğü üzere, temel bileşenler analizi sonrası SelectKBest ile seçilmiş 10 özellikten oluşan özellik alanının boyut sayısı 6'ya indirgenmiştir. Bu demektir ki, hedef özelliğimiz olan 'poi'-bir kişinin suçlu olup olmadığı- hakkında en iyi tahmin bilgisini içeren 6 boyuttan oluşan bir özellik alanı oluşturulmuştur. Sklearn üzerinde PCA sonrası boyutu indirgenmiş oluşturulan bu özellik alanı üzerinde algoritmaları çalıştırmak istiyorsak 'Pipeline' kullanmamız gerekmektedir."
   ]
  },
  {
   "cell_type": "code",
   "execution_count": 29,
   "metadata": {
    "collapsed": true
   },
   "outputs": [],
   "source": [
    "from sklearn.pipeline import Pipeline\n",
    "gaussian_pipe = Pipeline(steps=[('pca', pca), ('gaussian', gaussian_clf)])\n",
    "decisiontree_pipe = Pipeline(steps=[('pca', pca), ('decisiontree', decisiontree_clf)])\n",
    "adaboost_pipe = Pipeline(steps=[('pca', pca), ('adaboost', adaboost_clf)])\n",
    "kmeans_pipe = Pipeline(steps=[('pca', pca), ('kmeans', kmeans)])\n",
    "logreg_pipe = Pipeline(steps=[('pca', pca), ('logreg', logreg)])"
   ]
  },
  {
   "cell_type": "code",
   "execution_count": 30,
   "metadata": {
    "collapsed": false
   },
   "outputs": [
    {
     "name": "stdout",
     "output_type": "stream",
     "text": [
      "Pipeline(steps=[('pca', PCA(copy=True, iterated_power='auto', n_components=0.95, random_state=None,\n",
      "  svd_solver='auto', tol=0.0, whiten=False)), ('gaussian', GaussianNB(priors=None))])\n",
      "\tAccuracy: 0.85200\tPrecision: 0.43799\tRecall: 0.38850\tF1: 0.41176\tF2: 0.39748\n",
      "\tTotal predictions: 15000\tTrue positives:  777\tFalse positives:  997\tFalse negatives: 1223\tTrue negatives: 12003\n",
      "\n",
      "None\n",
      "-----------------------------------------------------------------------------------------------------------\n",
      "Pipeline(steps=[('pca', PCA(copy=True, iterated_power='auto', n_components=0.95, random_state=None,\n",
      "  svd_solver='auto', tol=0.0, whiten=False)), ('decisiontree', DecisionTreeClassifier(class_weight=None, criterion='gini', max_depth=None,\n",
      "            max_features=None, max_leaf_nodes=None,\n",
      "            min_impurity_split=1e-07, min_samples_leaf=1,\n",
      "            min_samples_split=2, min_weight_fraction_leaf=0.0,\n",
      "            presort=False, random_state=None, splitter='best'))])\n",
      "\tAccuracy: 0.82693\tPrecision: 0.34671\tRecall: 0.33700\tF1: 0.34178\tF2: 0.33890\n",
      "\tTotal predictions: 15000\tTrue positives:  674\tFalse positives: 1270\tFalse negatives: 1326\tTrue negatives: 11730\n",
      "\n",
      "None\n",
      "-----------------------------------------------------------------------------------------------------------\n",
      "Pipeline(steps=[('pca', PCA(copy=True, iterated_power='auto', n_components=0.95, random_state=None,\n",
      "  svd_solver='auto', tol=0.0, whiten=False)), ('adaboost', AdaBoostClassifier(algorithm='SAMME.R', base_estimator=None,\n",
      "          learning_rate=1.0, n_estimators=50, random_state=None))])\n",
      "\tAccuracy: 0.83107\tPrecision: 0.29430\tRecall: 0.19100\tF1: 0.23166\tF2: 0.20542\n",
      "\tTotal predictions: 15000\tTrue positives:  382\tFalse positives:  916\tFalse negatives: 1618\tTrue negatives: 12084\n",
      "\n",
      "None\n",
      "-----------------------------------------------------------------------------------------------------------\n",
      "Pipeline(steps=[('pca', PCA(copy=True, iterated_power='auto', n_components=0.95, random_state=None,\n",
      "  svd_solver='auto', tol=0.0, whiten=False)), ('kmeans', KMeans(algorithm='auto', copy_x=True, init='k-means++', max_iter=300,\n",
      "    n_clusters=2, n_init=10, n_jobs=1, precompute_distances='auto',\n",
      "    random_state=None, tol=0.0001, verbose=0))])\n",
      "\tAccuracy: 0.51273\tPrecision: 0.14288\tRecall: 0.53100\tF1: 0.22517\tF2: 0.34407\n",
      "\tTotal predictions: 15000\tTrue positives: 1062\tFalse positives: 6371\tFalse negatives:  938\tTrue negatives: 6629\n",
      "\n",
      "None\n",
      "-----------------------------------------------------------------------------------------------------------\n",
      "Pipeline(steps=[('pca', PCA(copy=True, iterated_power='auto', n_components=0.95, random_state=None,\n",
      "  svd_solver='auto', tol=0.0, whiten=False)), ('logreg', LogisticRegression(C=1.0, class_weight=None, dual=False, fit_intercept=True,\n",
      "          intercept_scaling=1, max_iter=100, multi_class='ovr', n_jobs=1,\n",
      "          penalty='l2', random_state=None, solver='liblinear', tol=0.0001,\n",
      "          verbose=0, warm_start=False))])\n",
      "\tAccuracy: 0.87420\tPrecision: 0.67601\tRecall: 0.10850\tF1: 0.18699\tF2: 0.13039\n",
      "\tTotal predictions: 15000\tTrue positives:  217\tFalse positives:  104\tFalse negatives: 1783\tTrue negatives: 12896\n",
      "\n",
      "None\n"
     ]
    }
   ],
   "source": [
    "print test_classifier(gaussian_pipe, my_dataset, my_features_list, scale_features = True)\n",
    "print ayirac\n",
    "print test_classifier(decisiontree_pipe, my_dataset, my_features_list, scale_features = True)\n",
    "print ayirac\n",
    "print test_classifier(adaboost_pipe, my_dataset, my_features_list, scale_features = True)\n",
    "print ayirac\n",
    "print test_classifier(kmeans_pipe, my_dataset, my_features_list, scale_features = True)\n",
    "print ayirac\n",
    "print test_classifier(logreg_pipe, my_dataset, my_features_list, scale_features = True)"
   ]
  },
  {
   "cell_type": "markdown",
   "metadata": {},
   "source": [
    "Temel bileşenler analiziyle boyutu indirgenmiş özellik alanı üzerine algoritmaların uygulanması sonucunda elde edilen başarım değerleri görülmektedir. Buna göre, PCA Naive Bayes ve Karar Ağacı algoritmalarının skorlarını artırırken Adaboost'un başarımını düşürmüş, K-Means ve Lojistik Regresyon'un başarım değerleri üzerinde kayda değer bir etki yaratmamıştır. Bu haliyle, Naive Bayes ve Karar Ağacı algoritmaları kesinlik ve duyarlık için proje hedefi olan en az 0.30 değerini aşarak başarılı olmuştur. Bundan sonra amacım, GridSearchCV modülüyle en iyi parametre ayarlamasın yaparak algoritmaların başarımlarını artırmak olacak. K-Means için kesinlik(precision) 0.15 civarlarında, lojistik regresyon için duyarlılık(recall) 0.10 civarlarında çıktığı için bu iki algoritma için GridSearchCV modülünü uygulamayacağım. Ancak, bu iki algoritmanın daha önce bahsettiğim üzere farklı yöntemler uygulanmasıyla  şu an belirlediğimiz en iyi sonucu veren algoritmalar kadar olmasa da en azından gözlediğimiz bu başarım değerlerinden daha iyi sonuçlar elde etmesi mümkündür."
   ]
  },
  {
   "cell_type": "markdown",
   "metadata": {},
   "source": [
    "### GridSearchCV ile model seçimi"
   ]
  },
  {
   "cell_type": "markdown",
   "metadata": {},
   "source": [
    "GridSearchCV'nin uygulanmasını anlayabilmek için, bu modülü birçok parametre değerine sahip Karar Ağacı ve Adaboost algoritmalarına uyguladım. Modülün uygulanmasından verim alabilmek için çapraz doğrulama ('cv') parametresi de dahil edilmiştir. 'cv' için projede verildiği gibi 'StratifiedShuffleSplit' seçilmiştir. Böylece GridSearchCV'de çapraz doğrulamanın uygulanmasıyla, veri seti her defasında farklı 'train' ve 'test' verilerine bölünerek toplamda 10 yinelemenin sonuçları karşılaştırılacak ve sonuç olarak algoritmanın en iyi sonucunu veren parametre değerleri elde edilecek.   "
   ]
  },
  {
   "cell_type": "code",
   "execution_count": 31,
   "metadata": {
    "collapsed": false
   },
   "outputs": [],
   "source": [
    "cv = cross_validation.StratifiedShuffleSplit(my_labels, n_iter = 10, random_state = 42)"
   ]
  },
  {
   "cell_type": "code",
   "execution_count": 32,
   "metadata": {
    "collapsed": false
   },
   "outputs": [
    {
     "name": "stderr",
     "output_type": "stream",
     "text": [
      "/home/tuna/anaconda3/envs/py27/lib/python2.7/site-packages/sklearn/metrics/classification.py:1113: UndefinedMetricWarning: F-score is ill-defined and being set to 0.0 due to no predicted samples.\n",
      "  'precision', 'predicted', average, warn_for)\n"
     ]
    },
    {
     "name": "stdout",
     "output_type": "stream",
     "text": [
      "Karar Ağacı parametre ayarı\n",
      " Adımlar: [('reduce_dim', PCA(copy=True, iterated_power='auto', n_components=None, random_state=None,\n",
      "  svd_solver='auto', tol=0.0, whiten=False)), ('dec_tree', DecisionTreeClassifier(class_weight=None, criterion='gini', max_depth=None,\n",
      "            max_features=None, max_leaf_nodes=None,\n",
      "            min_impurity_split=1e-07, min_samples_leaf=1,\n",
      "            min_samples_split=2, min_weight_fraction_leaf=0.0,\n",
      "            presort=False, random_state=None, splitter='best'))]\n",
      ", En iyi parametreler: {'dec_tree__max_depth': 8, 'dec_tree__criterion': 'entropy', 'dec_tree__min_samples_leaf': 1, 'reduce_dim__n_components': 0.95, 'dec_tree__min_samples_split': 8}\n",
      ", En iyi skor: 0.42\n",
      " \n"
     ]
    }
   ],
   "source": [
    "estimators = [('reduce_dim', PCA()),('dec_tree',decisiontree_clf)]\n",
    "decisiontreeclf = Pipeline(estimators)\n",
    "\n",
    "# Karar ağacı algoritması için parametre sözlüğünün oluşturulması\n",
    "dt_params = dict(reduce_dim__n_components=[var_perc],\n",
    "              dec_tree__criterion=(\"gini\",\"entropy\"),\n",
    "                  dec_tree__min_samples_split=[2,4,8,16,32],\n",
    "                   dec_tree__min_samples_leaf=[1,2,4,8,16,32],\n",
    "                   dec_tree__max_depth=[None,1,2,4,8,16,32])\n",
    "\n",
    "# Gridsearch modülünün kurulumu \n",
    "decisiontree_grid_search = GridSearchCV(decisiontreeclf, param_grid = dt_params,\n",
    "                          scoring = 'f1', cv = cv)\n",
    "\n",
    "# Verinin modüle yerleştirilmesi\n",
    "decisiontree_grid_search.fit(my_features, my_labels)\n",
    "\n",
    "print 'Karar Ağacı parametre ayarı\\n Adımlar: {0}\\n, En iyi parametreler: {1}\\n, En iyi skor: {2}\\n '.format(\n",
    "    decisiontreeclf.steps, decisiontree_grid_search.best_params_, decisiontree_grid_search.best_score_)\n",
    "\n",
    "# En iyi sonucu veren parametrelere sahip karar ağacı algoritmasının tanımlanması\n",
    "best_decisiontree_clf = decisiontree_grid_search.best_estimator_"
   ]
  },
  {
   "cell_type": "code",
   "execution_count": 33,
   "metadata": {
    "collapsed": false
   },
   "outputs": [
    {
     "name": "stdout",
     "output_type": "stream",
     "text": [
      "Pipeline(steps=[('reduce_dim', PCA(copy=True, iterated_power='auto', n_components=0.95, random_state=None,\n",
      "  svd_solver='auto', tol=0.0, whiten=False)), ('dec_tree', DecisionTreeClassifier(class_weight=None, criterion='entropy', max_depth=8,\n",
      "            max_features=None, max_leaf_nodes=None,\n",
      "            min_impurity_split=1e-07, min_samples_leaf=1,\n",
      "            min_samples_split=8, min_weight_fraction_leaf=0.0,\n",
      "            presort=False, random_state=None, splitter='best'))])\n",
      "\tAccuracy: 0.84140\tPrecision: 0.38577\tRecall: 0.32000\tF1: 0.34982\tF2: 0.33130\n",
      "\tTotal predictions: 15000\tTrue positives:  640\tFalse positives: 1019\tFalse negatives: 1360\tTrue negatives: 11981\n",
      "\n"
     ]
    }
   ],
   "source": [
    "test_classifier(best_decisiontree_clf, my_dataset, my_features_list, scale_features = True)"
   ]
  },
  {
   "cell_type": "code",
   "execution_count": 34,
   "metadata": {
    "collapsed": false
   },
   "outputs": [
    {
     "name": "stderr",
     "output_type": "stream",
     "text": [
      "/home/tuna/anaconda3/envs/py27/lib/python2.7/site-packages/sklearn/ensemble/weight_boosting.py:579: RuntimeWarning: overflow encountered in exp\n",
      "  (estimator_weight < 0)))\n",
      "/home/tuna/anaconda3/envs/py27/lib/python2.7/site-packages/sklearn/ensemble/weight_boosting.py:164: RuntimeWarning: invalid value encountered in divide\n",
      "  sample_weight /= sample_weight_sum\n"
     ]
    },
    {
     "name": "stdout",
     "output_type": "stream",
     "text": [
      "Adaboost parametre ayarı\n",
      " Adımlar: [('reduce_dim', PCA(copy=True, iterated_power='auto', n_components=None, random_state=None,\n",
      "  svd_solver='auto', tol=0.0, whiten=False)), ('adaboost', AdaBoostClassifier(algorithm='SAMME.R', base_estimator=None,\n",
      "          learning_rate=1.0, n_estimators=50, random_state=None))]\n",
      ", En iyi parametreler: {'reduce_dim__n_components': 0.95, 'adaboost__algorithm': 'SAMME.R', 'adaboost__n_estimators': 5, 'adaboost__learning_rate': 2}\n",
      ", En iyi skor: 0.613333333333\n",
      " \n"
     ]
    }
   ],
   "source": [
    "estimators = [('reduce_dim', PCA()),('adaboost',adaboost_clf)]\n",
    "adaboostclf = Pipeline(estimators)\n",
    "\n",
    "# Adaboost algoritması için parametre sözlüğünün oluşturulması\n",
    "a_params = dict(reduce_dim__n_components=[var_perc],\n",
    "              adaboost__n_estimators=[5, 10, 30, 40, 50, 100, 150, 200],\n",
    "                  adaboost__learning_rate=[0.1, 0.5, 1, 1.5, 2, 2.5],\n",
    "                   adaboost__algorithm=('SAMME', 'SAMME.R'))\n",
    "\n",
    "# Gridsearch modülünün kurulumu \n",
    "adaboost_grid_search = GridSearchCV(adaboostclf, param_grid = a_params,\n",
    "                          scoring = 'f1', cv = cv)\n",
    "# Verinin modüle yerleştirilmesi\n",
    "adaboost_grid_search.fit(my_features, my_labels)\n",
    "\n",
    "print 'Adaboost parametre ayarı\\n Adımlar: {0}\\n, En iyi parametreler: {1}\\n, En iyi skor: {2}\\n '.format(\n",
    "    adaboostclf.steps, adaboost_grid_search.best_params_, adaboost_grid_search.best_score_)\n",
    "# En iyi sonucu veren parametrelere sahip karar ağacı algoritmasının tanımlanması\n",
    "best_adaboost_clf = adaboost_grid_search.best_estimator_"
   ]
  },
  {
   "cell_type": "code",
   "execution_count": 35,
   "metadata": {
    "collapsed": false
   },
   "outputs": [
    {
     "name": "stdout",
     "output_type": "stream",
     "text": [
      "Pipeline(steps=[('reduce_dim', PCA(copy=True, iterated_power='auto', n_components=0.95, random_state=None,\n",
      "  svd_solver='auto', tol=0.0, whiten=False)), ('adaboost', AdaBoostClassifier(algorithm='SAMME.R', base_estimator=None, learning_rate=2,\n",
      "          n_estimators=5, random_state=None))])\n",
      "\tAccuracy: 0.89473\tPrecision: 0.69365\tRecall: 0.37700\tF1: 0.48850\tF2: 0.41488\n",
      "\tTotal predictions: 15000\tTrue positives:  754\tFalse positives:  333\tFalse negatives: 1246\tTrue negatives: 12667\n",
      "\n"
     ]
    }
   ],
   "source": [
    "# En yüksek değerlendirme metriklerine sahip Adaboost algoritmasının başarım değerleri\n",
    "test_classifier(best_adaboost_clf, my_dataset, my_features_list, scale_features = True)"
   ]
  },
  {
   "cell_type": "code",
   "execution_count": 38,
   "metadata": {
    "collapsed": false
   },
   "outputs": [],
   "source": [
    "import tester\n",
    "tester.dump_classifier_and_data(best_adaboost_clf, my_dataset, my_features_list)"
   ]
  },
  {
   "cell_type": "markdown",
   "metadata": {},
   "source": [
    "Sonuç olarak; en iyi başarım değerini GridSearchCV modülüyle bulunan parametreler ile uygulanmış Adaboost algoritması verdi. Yaptığımız akış içerisinde ilk Adaboost denemesinin sonuçlarıyla karşılaştırıldığında ciddi artış görülmektedir. Başarım değerleri olarak daha önceki sonuçlarda da gördüğümüz doğruluk('accuracy'), kesinlik('presicision'), duyarlılık('recall') ve 'F1' değerlendirme metriklerinin ne anlama geldiğini açıklarsak; doğruluk('accuracy'), modelimizin yaptığı POI veya POI olmayan olarak sınıflandırmanın doğruluk oranını vermektedir. Ancak veri setimizdeki dağılım dengeli olmadığı için (144 veri noktası içinde 18 POI'nin bulunması) 'accuracy' metriğine göre modelimizi değerlendirmek yanıltıcı olacaktır, çünkü modelimiz hiçbir tahminde bulunmayıp tüm kişileri 'POI değil' olarak etiketlese bile %88 doğru tahminde bulunmuş olacaktı. Bu nedenle 'precision' ve 'recall' değerleri modelimizin değerlendirilmesinde dikkate alınması gereken metriklerdir. Kesinlik ('precision'), modelimizin \"POI\" olarak doğru sınıflandırdığı kişi sayısının, \"POI\" olarak sınıflandırdığı toplam kişi sayısına oranını verirken; duyarlılık ('recall'), modelimizin \"POI\" olarak doğru sınıflandırdığı kişi sayısının, gerçekte POI olan kişi sayısına oranını vermektedir. F-ölçütü ise, kesinlik ve duyarlığın harmonik ortalamasını vererek iki ölçütü beraber değerlendirmemizi sağlayan bir değer vermektedir. "
   ]
  },
  {
   "cell_type": "markdown",
   "metadata": {},
   "source": [
    "İzlenen adımları baştan sona özetlersek;\n",
    "Çalışma dört ana bölümden oluşuyor: 1-Veri setini anlama 2-Özellik seçimi 3-Algoritma uygulama 4-Değerlendirme.\n",
    "İlk aşamada, karşılaşılan problemin çözümü için veri setinin yapısı anlaşıldıktan sonra aykırı değerler ve gereksiz veri noktaları belirlenerek veri setinden çıkartıldı. Boş/eksik veriler evrensel(unicode) 'NaN' formatına dönüştürüldü, tahmin modellememizin başarım değerini arttırması amacıyla hedef özellik ile ilişkili olacabilecek sezgisel yolla yeni özellik oluşturuldu. İkinci aşamada, problemin çözümü için tüm özellikler için Sklearn özellik seçimi modüllerinden SelectKBest kullanılarak hedef özellik 'poi' ile en yüksek ilişkili 10 özellik belirlendi, özellik ölçeklemeleri yapıldı. Sonraki aşama olan algoritma uygulamasında Naive Bayes, Karar Ağacı, Adaboost, K-Means ve Lojistik Regresyon algoritmaları SelectKBest ile belirlenmiş on özellikten oluşan özellik alanına uygulandı. Herhangi bir parametre ayarı yapılmadan algoritmaların varsayılan(default) parametre değerlerinin uygulanmasıyla elde edilen başarım sonuçları gözlemlendikten sonra, SelectKBest ile belirlenmiş özelliklere temel bileşenler analizi(PCA) uygulandı. %95 'tutulan varyans' oranlı PCA ile 10 boyutlu özellik alanı, 6 boyuta indirgenmiş oldu. Aynı algoritmaların başarımları PCA sonrası değerlendirildi. Başarımı yüksek olan algoritmalarda iyileştirme için GridSearchCV modülüyle en iyi başarımı gösteren parametre değerleri elde edildi. Elde edilen bu parametre değerlerinin algoritmalarda uygulanmasıyla en iyi sonucu 0.69 kesinlik, 0.37 duyarlık ve 0.48 F-skoru ile Adaboost algoritması verdi. Böylece kesinlik ve duyarlık skorlarında en az 0.30 olan proje hedef değerine ulaşılmış oldu.  \n",
    "Bu uygulama örneğinde izlenen iş akışıyla ilgili belirtmek istediğim husus, SelectKBest için k=10, PCA için 0.95 tutulan varyans oranı yaptığım onlarca denemeninin sonucunda elde edilmiş sayılardır. Hem el ile seçerek hem de ayrıdan GridSearchCV uygulayarak gözlemlediğim sonuçlara göre anlatımda bu değerlerin kullanımı ve bu kullanımın sonucunda elde edilen sonuçlar gösterilmiştir. Zira öncesinde de belirttiğim üzere bazı algoritmalar için farklı yöntem ve parametre değerleri görece daha iyi sonuçlar verecektir. Ancak amaç bir makine öğrenimi uygulamasında baştan sona yaklaşımı ve süreci göstermek için bir örnek sunmak olduğundan, anlatımı daha fazla uzatmamak ve karmaşıklaştırmamak adına bu gönderinin içeriğine yansıtılan denemeler sınırlı tutulmuştur.\n",
    "Çalışmamı inceleyenler gördükleri eksik veya belirsiz olduğunu düşündükleri noktaları bildirirlerse, bir nüve halinde olan bu işin olgunlaşmasına katkı sunacaklarından ötürü onlara şimdiden teşekkür etmeyi bir borç bilirim. "
   ]
  }
 ],
 "metadata": {
  "kernelspec": {
   "display_name": "Python 2",
   "language": "python",
   "name": "python2"
  },
  "language_info": {
   "codemirror_mode": {
    "name": "ipython",
    "version": 2.0
   },
   "file_extension": ".py",
   "mimetype": "text/x-python",
   "name": "python",
   "nbconvert_exporter": "python",
   "pygments_lexer": "ipython2",
   "version": "2.7.13"
  }
 },
 "nbformat": 4,
 "nbformat_minor": 0
}